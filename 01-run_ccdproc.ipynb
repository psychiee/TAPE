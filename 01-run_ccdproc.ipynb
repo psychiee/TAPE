{
 "cells": [
  {
   "cell_type": "markdown",
   "metadata": {},
   "source": [
    "# Process CCD Images\n",
    "This is the code for CCD image preprocessing, which requires the calibration frames such as bias, dark, flat frames. Each frame set helps eliminate the artificial signals and mitigate the intrinsic patterns and noises in the raw images obtained from CCD camera and optical system. \n",
    "  - Read the parameters of WORKDIR, BINNING from **tape.par** (parameter file)\n",
    "  - Find the images in WORKDIR, having xbinning and ybinning = BINNING in their fits header. \n",
    "  - Make the list for image processing. (wbias.list, wdark100s.list, wflatB.list, ... )\n",
    "  - Generate master BIAS, DARK for each exposure, FLAT for each filter.\n",
    "  - Do image preprocessing of the object files => w*.fits\n"
   ]
  },
  {
   "cell_type": "markdown",
   "metadata": {},
   "source": [
    "Read the parameter file **tape.par**. <br> \n",
    "Move to the working directory, WORKDIR. \n"
   ]
  },
  {
   "cell_type": "code",
   "execution_count": 1,
   "metadata": {},
   "outputs": [
    {
     "name": "stderr",
     "output_type": "stream",
     "text": [
      "c:\\Users\\kang\\anaconda3\\lib\\site-packages\\scipy\\__init__.py:146: UserWarning: A NumPy version >=1.16.5 and <1.23.0 is required for this version of SciPy (detected version 1.25.1\n",
      "  warnings.warn(f\"A NumPy version >={np_minversion} and <{np_maxversion}\"\n"
     ]
    },
    {
     "name": "stdout",
     "output_type": "stream",
     "text": [
      "#WORK: run_ccdproc\n",
      "#WORK DIR: ./180326-HAT-P-12b\n",
      "#BINNING for processing: 1\n"
     ]
    }
   ],
   "source": [
    "import os, time\n",
    "from glob import glob\n",
    "import numpy as np \n",
    "from astropy.io import fits \n",
    "from photlib import read_params, prnlog\n",
    "import shutil\n",
    "\n",
    "# READ the parameter file\n",
    "par = read_params() \n",
    "\n",
    "# PRINT the parameters \n",
    "WORKDIR = par['WORKDIR']\n",
    "BINNING = int(par['BINNING'])\n",
    "prnlog('#WORK: run_ccdproc')\n",
    "prnlog(f'#WORK DIR: {WORKDIR}')\n",
    "prnlog(f'#BINNING for processing: {BINNING}')\n",
    "\n",
    "# MOVE to the working directory =======\n",
    "CDIR = os.path.abspath(os.path.curdir)\n",
    "os.chdir(WORKDIR)\n",
    "#======================================"
   ]
  },
  {
   "cell_type": "markdown",
   "metadata": {},
   "source": [
    "Make the list of FITS files"
   ]
  },
  {
   "cell_type": "code",
   "execution_count": 2,
   "metadata": {},
   "outputs": [
    {
     "name": "stdout",
     "output_type": "stream",
     "text": [
      "#OBJECT IMAGE: 44\n",
      "#BIAS FRAME: 5\n",
      "#DARK FRAME: 5\n",
      "#FLAT FRAME: 5\n"
     ]
    }
   ],
   "source": [
    "#============= YOU SHOUD CHECK THE FILE NAMES ================\n",
    "# MAKE object + bias + dark + flat image file list \n",
    "# modify wild cards (*.fits) for your observation file name\n",
    "biaslist = glob('bias-*.fits') \n",
    "darklist = glob('dark-*.fits') \n",
    "flatlist = glob('flat-*.fits') \n",
    "objlist = glob('object-*.fits')\n",
    "prnlog(f\"#OBJECT IMAGE: {len(objlist)}\")\n",
    "prnlog(f\"#BIAS FRAME: {len(biaslist)}\")\n",
    "prnlog(f\"#DARK FRAME: {len(darklist)}\")\n",
    "prnlog(f\"#FLAT FRAME: {len(flatlist)}\")\n",
    "flist = biaslist + darklist + flatlist + objlist\n",
    "#============= YOU SHOUD CHECK THE FILE NAMES ================"
   ]
  },
  {
   "cell_type": "markdown",
   "metadata": {},
   "source": [
    "Read the FITS header information from each file and list up the fits files with xbinning and ybinning = BINNING (in **tape.par**)"
   ]
  },
  {
   "cell_type": "code",
   "execution_count": 3,
   "metadata": {},
   "outputs": [],
   "source": [
    "# DEFINE the list for information of FITS files \n",
    "TARGET, TYPE, DATEOBS, EXPTIME, FILTER, FNAME = [],[],[],[],[],[]\n",
    "for fname in flist: \n",
    "    hdu = fits.open(fname)\n",
    "    img, hdr = hdu[0].data, hdu[0].header\n",
    "    if hdr.get('XBINNING') != BINNING: continue\n",
    "    if hdr.get('YBINNING') != BINNING: continue\n",
    "    # READ the FITS file header and INPUT into the list \n",
    "    TARGET.append(hdr['OBJECT'])\n",
    "    TYPE.append(str.lower(hdr['IMAGETYP']))\n",
    "    DATEOBS.append(hdr['DATE-OBS'])\n",
    "    EXPTIME.append(hdr['EXPTIME'])\n",
    "    FILTER.append(hdr['FILTER'])\n",
    "    FNAME.append(fname)\n",
    "# SORT the files for the observation time \n",
    "sort_list = np.argsort(DATEOBS) "
   ]
  },
  {
   "cell_type": "markdown",
   "metadata": {},
   "source": [
    "\n",
    "Clean up the previous list files in the directory.\n",
    " \n",
    "Generate the file list of each set for image preprocessing "
   ]
  },
  {
   "cell_type": "code",
   "execution_count": 4,
   "metadata": {},
   "outputs": [
    {
     "name": "stdout",
     "output_type": "stream",
     "text": [
      "2018-03-25T10:13:55 flat R 15.0 dark180\n",
      "add flat-046.fits to wflatR.list...\n",
      "2018-03-25T10:14:20 flat R 15.0 dark180\n",
      "add flat-047.fits to wflatR.list...\n",
      "2018-03-25T10:14:47 flat R 17.0 dark180\n",
      "add flat-048.fits to wflatR.list...\n",
      "2018-03-25T10:15:15 flat R 19.0 dark180\n",
      "add flat-049.fits to wflatR.list...\n",
      "2018-03-25T10:15:46 flat R 19.0 dark180\n",
      "add flat-050.fits to wflatR.list...\n",
      "2018-03-26T14:04:06 object R 200.0 hat-p-12b\n",
      "add object-000115.fits to wobj.list...\n",
      "2018-03-26T14:07:37 object R 200.0 hat-p-12b\n",
      "add object-000116.fits to wobj.list...\n",
      "2018-03-26T14:11:04 object R 200.0 hat-p-12b\n",
      "add object-000117.fits to wobj.list...\n",
      "2018-03-26T14:14:30 object R 200.0 hat-p-12b\n",
      "add object-000118.fits to wobj.list...\n",
      "2018-03-26T14:24:50 object R 200.0 hat-p-12b\n",
      "add object-000121.fits to wobj.list...\n",
      "2018-03-26T14:35:10 object R 200.0 hat-p-12b\n",
      "add object-000124.fits to wobj.list...\n",
      "2018-03-26T14:45:30 object R 200.0 hat-p-12b\n",
      "add object-000127.fits to wobj.list...\n",
      "2018-03-26T14:55:49 object R 200.0 hat-p-12b\n",
      "add object-000130.fits to wobj.list...\n",
      "2018-03-26T14:59:16 object R 200.0 hat-p-12b\n",
      "add object-000131.fits to wobj.list...\n",
      "2018-03-26T15:02:42 object R 200.0 hat-p-12b\n",
      "add object-000132.fits to wobj.list...\n",
      "2018-03-26T15:06:09 object R 200.0 hat-p-12b\n",
      "add object-000133.fits to wobj.list...\n",
      "2018-03-26T15:09:35 object R 200.0 hat-p-12b\n",
      "add object-000134.fits to wobj.list...\n",
      "2018-03-26T15:13:01 object R 200.0 hat-p-12b\n",
      "add object-000135.fits to wobj.list...\n",
      "2018-03-26T15:16:28 object R 200.0 hat-p-12b\n",
      "add object-000136.fits to wobj.list...\n",
      "2018-03-26T15:19:54 object R 200.0 hat-p-12b\n",
      "add object-000137.fits to wobj.list...\n",
      "2018-03-26T15:23:21 object R 200.0 hat-p-12b\n",
      "add object-000138.fits to wobj.list...\n",
      "2018-03-26T15:26:48 object R 200.0 hat-p-12b\n",
      "add object-000139.fits to wobj.list...\n",
      "2018-03-26T15:33:41 object R 200.0 hat-p-12b\n",
      "add object-000141.fits to wobj.list...\n",
      "2018-03-26T15:40:34 object R 200.0 hat-p-12b\n",
      "add object-000143.fits to wobj.list...\n",
      "2018-03-26T15:47:27 object R 200.0 hat-p-12b\n",
      "add object-000145.fits to wobj.list...\n",
      "2018-03-26T15:54:20 object R 200.0 hat-p-12b\n",
      "add object-000147.fits to wobj.list...\n",
      "2018-03-26T16:01:13 object R 200.0 hat-p-12b\n",
      "add object-000149.fits to wobj.list...\n",
      "2018-03-26T16:08:06 object R 200.0 hat-p-12b\n",
      "add object-000151.fits to wobj.list...\n",
      "2018-03-26T16:14:59 object R 200.0 hat-p-12b\n",
      "add object-000153.fits to wobj.list...\n",
      "2018-03-26T16:21:51 object R 200.0 hat-p-12b\n",
      "add object-000155.fits to wobj.list...\n",
      "2018-03-26T16:28:44 object R 200.0 hat-p-12b\n",
      "add object-000157.fits to wobj.list...\n",
      "2018-03-26T16:35:37 object R 200.0 hat-p-12b\n",
      "add object-000159.fits to wobj.list...\n",
      "2018-03-26T16:42:30 object R 200.0 hat-p-12b\n",
      "add object-000161.fits to wobj.list...\n",
      "2018-03-26T16:45:57 object R 200.0 hat-p-12b\n",
      "add object-000162.fits to wobj.list...\n",
      "2018-03-26T16:49:23 object R 200.0 hat-p-12b\n",
      "add object-000163.fits to wobj.list...\n",
      "2018-03-26T16:52:50 object R 200.0 hat-p-12b\n",
      "add object-000164.fits to wobj.list...\n",
      "2018-03-26T16:56:16 object R 200.0 hat-p-12b\n",
      "add object-000165.fits to wobj.list...\n",
      "2018-03-26T16:59:42 object R 200.0 hat-p-12b\n",
      "add object-000166.fits to wobj.list...\n",
      "2018-03-26T17:03:09 object R 200.0 hat-p-12b\n",
      "add object-000167.fits to wobj.list...\n",
      "2018-03-26T17:06:36 object R 200.0 hat-p-12b\n",
      "add object-000168.fits to wobj.list...\n",
      "2018-03-26T17:10:02 object R 200.0 hat-p-12b\n",
      "add object-000169.fits to wobj.list...\n",
      "2018-03-26T17:16:55 object R 200.0 hat-p-12b\n",
      "add object-000171.fits to wobj.list...\n",
      "2018-03-26T17:27:15 object R 200.0 hat-p-12b\n",
      "add object-000174.fits to wobj.list...\n",
      "2018-03-26T17:37:34 object R 200.0 hat-p-12b\n",
      "add object-000177.fits to wobj.list...\n",
      "2018-03-26T17:47:53 object R 200.0 hat-p-12b\n",
      "add object-000180.fits to wobj.list...\n",
      "2018-03-26T17:58:12 object R 200.0 hat-p-12b\n",
      "add object-000183.fits to wobj.list...\n",
      "2018-03-26T18:08:32 object R 200.0 hat-p-12b\n",
      "add object-000186.fits to wobj.list...\n",
      "2018-03-26T18:18:52 object R 200.0 hat-p-12b\n",
      "add object-000189.fits to wobj.list...\n",
      "2018-03-26T18:29:11 object R 200.0 hat-p-12b\n",
      "add object-000192.fits to wobj.list...\n",
      "2018-03-26T19:54:36 bias R 0.0 bias\n",
      "add bias-001.fits to wbias.list...\n",
      "2018-03-26T19:54:43 bias R 0.0 bias\n",
      "add bias-002.fits to wbias.list...\n",
      "2018-03-26T19:54:49 bias R 0.0 bias\n",
      "add bias-003.fits to wbias.list...\n",
      "2018-03-26T19:54:56 bias R 0.0 bias\n",
      "add bias-004.fits to wbias.list...\n",
      "2018-03-26T19:55:02 bias R 0.0 bias\n",
      "add bias-005.fits to wbias.list...\n",
      "2018-03-26T20:10:10 dark R 180.0 dark180\n",
      "add dark-180s-010.fits to wdark180s.list...\n",
      "2018-03-26T20:13:16 dark R 180.0 dark180\n",
      "add dark-180s-011.fits to wdark180s.list...\n",
      "2018-03-26T20:16:23 dark R 180.0 dark180\n",
      "add dark-180s-012.fits to wdark180s.list...\n",
      "2018-03-26T20:19:30 dark R 180.0 dark180\n",
      "add dark-180s-013.fits to wdark180s.list...\n",
      "2018-03-26T20:22:36 dark R 180.0 dark180\n",
      "add dark-180s-014.fits to wdark180s.list...\n"
     ]
    }
   ],
   "source": [
    "# LOOP for the all FITS images and \n",
    "# GENERATE the file list for each group \n",
    "for rname in glob('w*.list'):\n",
    "    os.remove(rname)\n",
    "for s in sort_list:\n",
    "    prnlog(f\"{DATEOBS[s]} {TYPE[s]} {FILTER[s]} {EXPTIME[s]} {TARGET[s]}\")\n",
    "    # DEFINE the name of list file with FITS header info.  \n",
    "    if TYPE[s] == 'bias': \n",
    "        lname = 'wbias.list'\n",
    "    elif TYPE[s] == 'dark': \n",
    "        lname = f'wdark{EXPTIME[s]:.0f}s.list'\n",
    "    elif TYPE[s] == 'flat':\n",
    "        lname = f'wflat{FILTER[s]}.list'\n",
    "    elif TYPE[s] == 'object':\n",
    "        lname = 'wobj.list'\n",
    "    else:\n",
    "        lname = 'others.list'\n",
    "    # WRITE the FITS file name into the LIST file \n",
    "    f = open(lname, 'a') \n",
    "    f.write(f\"{FNAME[s]:s}\\n\")\n",
    "    f.close()\n",
    "    prnlog(f\"add {FNAME[s]} to {lname}...\" )  \n"
   ]
  },
  {
   "cell_type": "markdown",
   "metadata": {},
   "source": [
    "Combine the bias frames with median filter, and make the MASTER BIAS (wbias.fits)"
   ]
  },
  {
   "cell_type": "code",
   "execution_count": 5,
   "metadata": {},
   "outputs": [
    {
     "name": "stdout",
     "output_type": "stream",
     "text": [
      "bias-001.fits    595.4     12.9    800.0    412.0\n",
      "bias-002.fits    596.3     12.7    795.0    415.0\n",
      "bias-003.fits    596.6     10.3   2386.0    434.0\n",
      "bias-004.fits    596.2      9.0   1305.0    430.0\n",
      "bias-005.fits    595.8      9.0    767.0    434.0\n",
      "MASTER BIAS    596.1      4.9    648.0    549.0\n"
     ]
    }
   ],
   "source": [
    "# COMBINE bias frames ========================================================\n",
    "bias_list = np.genfromtxt('wbias.list',dtype='U') \n",
    "bias_stack = []\n",
    "for fname in bias_list:\n",
    "    hdu = fits.open(fname)[0]\n",
    "    dat, hdr = hdu.data, hdu.header\n",
    "    bias_stack.append(dat)\n",
    "    prnlog(f\"{fname:s} {np.mean(dat):8.1f} {np.std(dat):8.1f} {np.max(dat):8.1f} {np.min(dat):8.1f}\")\n",
    "master_bias = np.array(np.median(bias_stack, axis=0), dtype=np.float32)\n",
    "dat = master_bias\n",
    "prnlog(f\"MASTER BIAS {np.mean(dat):8.1f} {np.std(dat):8.1f} {np.max(dat):8.1f} {np.min(dat):8.1f}\")\n",
    "# WRITE the master bias to FITS\n",
    "hdr.set('DATE-PRC', time.strftime('%Y-%m-%dT%H:%M:%S'))\n",
    "hdr.set('OBJECT', 'wbias')\n",
    "fits.writeto('wbias.fits', master_bias, hdr, overwrite=True)"
   ]
  },
  {
   "cell_type": "markdown",
   "metadata": {},
   "source": [
    "Combined the dark frames with median filter, and make the MASTER DARK of each exposure. (wdark???s.fits)"
   ]
  },
  {
   "cell_type": "code",
   "execution_count": 6,
   "metadata": {},
   "outputs": [
    {
     "name": "stdout",
     "output_type": "stream",
     "text": [
      "dark-180s-010.fits    603.2     13.2  11247.0    437.0\n",
      "dark-180s-011.fits    604.6     12.1   9703.0    442.0\n",
      "dark-180s-012.fits    603.9     13.1  12944.0    427.0\n",
      "dark-180s-013.fits    602.7     10.9   6828.0    437.0\n",
      "dark-180s-014.fits    603.9     12.8   8635.0    438.0\n",
      "MASTER DARK 180.0      7.6      6.8   1478.0    -49.0\n"
     ]
    }
   ],
   "source": [
    "# COMBINE dark frames ========================================================\n",
    "list_files = glob('wdark*.list')\n",
    "master_darks, exptime_darks = [], [] \n",
    "# LOOP of the exposure time\n",
    "for lname in list_files:\n",
    "    dark_list = np.genfromtxt(lname, dtype='U') \n",
    "    fidx = os.path.splitext(lname)[0]\n",
    "    dark_stack = [] \n",
    "    for fname in dark_list: \n",
    "        hdu = fits.open(fname)[0]\n",
    "        dat, hdr = hdu.data, hdu.header\n",
    "        dark_stack.append(dat - master_bias) \n",
    "        prnlog(f\"{fname:s} {np.mean(dat):8.1f} {np.std(dat):8.1f} {np.max(dat):8.1f} {np.min(dat):8.1f}\")\n",
    "    master_dark = np.median(dark_stack, axis=0)\n",
    "    exptime_dark = hdr.get('EXPTIME')\n",
    "    dat = master_dark \n",
    "    prnlog(f\"MASTER DARK {exptime_dark} {np.mean(dat):8.1f} {np.std(dat):8.1f} {np.max(dat):8.1f} {np.min(dat):8.1f}\")\n",
    "    # WRITE the master dark to FITS \n",
    "    hdr.set('OBJECT',fidx)\n",
    "    hdr.set('DATE-PRC', time.strftime('%Y-%m-%dT%H:%M:%S'))\n",
    "    hdr.set('EXPTIME', exptime_dark)\n",
    "    fits.writeto(fidx+'.fits', master_dark, hdr, overwrite=True)        \n",
    "    # MAKE the list of the master dark for each exposure \n",
    "    master_darks.append(master_dark)\n",
    "    exptime_darks.append(exptime_dark)\n"
   ]
  },
  {
   "cell_type": "markdown",
   "metadata": {},
   "source": [
    "Combine the flat frames with average filter, and make the MASTER FLAT for each filter (wflat??.fits)"
   ]
  },
  {
   "cell_type": "code",
   "execution_count": 7,
   "metadata": {},
   "outputs": [
    {
     "name": "stdout",
     "output_type": "stream",
     "text": [
      "flat-046.fits  0.99967  0.01252  1.36153  0.43132\n",
      "flat-047.fits  0.99968  0.01265  1.37793  0.42136\n",
      "flat-048.fits  0.99970  0.01265  1.42655  0.43017\n",
      "flat-049.fits  0.99971  0.01262  1.49473  0.43088\n",
      "flat-050.fits  0.99971  0.01299  1.72597  0.43138\n",
      "MASTER FLAT R  0.99966  0.01129  1.11732  0.43088\n"
     ]
    }
   ],
   "source": [
    "# COMBINE the flat frames =======================================================\n",
    "list_files = glob('wflat*.list') \n",
    "master_flats, filter_flats = [], [] \n",
    "# LOOP of filters \n",
    "for lname in list_files: \n",
    "    flat_list = np.genfromtxt(lname, dtype='U') \n",
    "    fidx = os.path.splitext(lname)[0]\n",
    "    flat_stack = [] \n",
    "    for fname in flat_list:\n",
    "        hdu = fits.open(fname)[0]\n",
    "        dat, hdr = hdu.data, hdu.header\n",
    "        dat = dat - master_bias\n",
    "        fdat = dat / np.median(dat)\n",
    "        flat_stack.append(fdat)\n",
    "        filter_flat = str.strip(hdr.get('FILTER'))\n",
    "        prnlog(f\"{fname:s} {np.mean(fdat):8.5f} {np.std(fdat):8.5f} {np.max(fdat):8.5f} {np.min(fdat):8.5f}\")\n",
    "    master_flat = np.median(flat_stack, axis=0)\n",
    "    dat = master_flat\n",
    "    prnlog(f\"MASTER FLAT {filter_flat} {np.mean(dat):8.5f} {np.std(dat):8.5f} {np.max(dat):8.5f} {np.min(dat):8.5f}\")\n",
    "    # WRITE the mater flat to the FITS\n",
    "    hdr.set('DATE-PRC', time.strftime('%Y-%m-%dT%H:%M:%S'))\n",
    "    hdr.set('OBJECT', fidx)\n",
    "    hdr.set('FILTER', filter_flat)\n",
    "    fits.writeto(fidx+'.fits', master_flat, hdr, overwrite=True)         \n",
    "    # WRITE the mater flat to the FITS        \n",
    "    master_flats.append(master_flat)\n",
    "    filter_flats.append(filter_flat)    "
   ]
  },
  {
   "cell_type": "markdown",
   "metadata": {},
   "source": [
    "Do the preprocessing for all of object images with the calibration frames such as master bias, master dark, master flat. \n",
    "Write the result to the FITS (wobject*.fits)"
   ]
  },
  {
   "cell_type": "code",
   "execution_count": 8,
   "metadata": {},
   "outputs": [
    {
     "name": "stdout",
     "output_type": "stream",
     "text": [
      "object-000115.fits(R,200.0)<<[R,180.0]\n",
      "object-000116.fits(R,200.0)<<[R,180.0]\n",
      "object-000117.fits(R,200.0)<<[R,180.0]\n",
      "object-000118.fits(R,200.0)<<[R,180.0]\n",
      "object-000121.fits(R,200.0)<<[R,180.0]\n",
      "object-000124.fits(R,200.0)<<[R,180.0]\n",
      "object-000127.fits(R,200.0)<<[R,180.0]\n",
      "object-000130.fits(R,200.0)<<[R,180.0]\n",
      "object-000131.fits(R,200.0)<<[R,180.0]\n",
      "object-000132.fits(R,200.0)<<[R,180.0]\n",
      "object-000133.fits(R,200.0)<<[R,180.0]\n",
      "object-000134.fits(R,200.0)<<[R,180.0]\n",
      "object-000135.fits(R,200.0)<<[R,180.0]\n",
      "object-000136.fits(R,200.0)<<[R,180.0]\n",
      "object-000137.fits(R,200.0)<<[R,180.0]\n",
      "object-000138.fits(R,200.0)<<[R,180.0]\n",
      "object-000139.fits(R,200.0)<<[R,180.0]\n",
      "object-000141.fits(R,200.0)<<[R,180.0]\n",
      "object-000143.fits(R,200.0)<<[R,180.0]\n",
      "object-000145.fits(R,200.0)<<[R,180.0]\n",
      "object-000147.fits(R,200.0)<<[R,180.0]\n",
      "object-000149.fits(R,200.0)<<[R,180.0]\n",
      "object-000151.fits(R,200.0)<<[R,180.0]\n",
      "object-000153.fits(R,200.0)<<[R,180.0]\n",
      "object-000155.fits(R,200.0)<<[R,180.0]\n",
      "object-000157.fits(R,200.0)<<[R,180.0]\n",
      "object-000159.fits(R,200.0)<<[R,180.0]\n",
      "object-000161.fits(R,200.0)<<[R,180.0]\n",
      "object-000162.fits(R,200.0)<<[R,180.0]\n",
      "object-000163.fits(R,200.0)<<[R,180.0]\n",
      "object-000164.fits(R,200.0)<<[R,180.0]\n",
      "object-000165.fits(R,200.0)<<[R,180.0]\n",
      "object-000166.fits(R,200.0)<<[R,180.0]\n",
      "object-000167.fits(R,200.0)<<[R,180.0]\n",
      "object-000168.fits(R,200.0)<<[R,180.0]\n",
      "object-000169.fits(R,200.0)<<[R,180.0]\n",
      "object-000171.fits(R,200.0)<<[R,180.0]\n",
      "object-000174.fits(R,200.0)<<[R,180.0]\n",
      "object-000177.fits(R,200.0)<<[R,180.0]\n",
      "object-000180.fits(R,200.0)<<[R,180.0]\n",
      "object-000183.fits(R,200.0)<<[R,180.0]\n",
      "object-000186.fits(R,200.0)<<[R,180.0]\n",
      "object-000189.fits(R,200.0)<<[R,180.0]\n",
      "object-000192.fits(R,200.0)<<[R,180.0]\n"
     ]
    }
   ],
   "source": [
    "# DO PREPROCESSING with the calibration frames \n",
    "flist = np.genfromtxt('wobj.list', dtype='U')\n",
    "for fname in flist:\n",
    "    hdu = fits.open(fname)[0]\n",
    "    cIMAGE, hdr = hdu.data, hdu.header\n",
    "    cFILTER = str.strip(hdr.get('FILTER'))\n",
    "    cEXPTIME = float(hdr.get('EXPTIME'))\n",
    "    # FIND the master dark with the closest exposure time\n",
    "    dd = np.argmin(np.abs(np.array(exptime_darks) - cEXPTIME))\n",
    "    dEXPTIME = exptime_darks[dd]\n",
    "    dFRAME = master_darks[dd]\n",
    "    dFRAME = dFRAME * (cEXPTIME/dEXPTIME)\n",
    "    # FIND the master flat with the same filter \n",
    "    ff = filter_flats.index(cFILTER)\n",
    "    fFILTER = filter_flats[ff]\n",
    "    fFRAME = master_flats[ff]\n",
    "    cIMAGE = cIMAGE - master_bias - dFRAME\n",
    "    cIMAGE = np.array(cIMAGE / fFRAME, dtype=np.float32)\n",
    "    # WRITE the calibrated image to the FITS\n",
    "    hdr.set('DATE-PRC', time.strftime('%Y-%m-%dT%H:%M:%S'))\n",
    "    fits.writeto('w'+fname, cIMAGE, hdr, overwrite=True)\n",
    "    prnlog(f'{fname}({cFILTER},{cEXPTIME})<<[{fFILTER},{dEXPTIME}]')"
   ]
  },
  {
   "cell_type": "markdown",
   "metadata": {},
   "source": [
    "Come back to the home directory. "
   ]
  },
  {
   "cell_type": "code",
   "execution_count": 9,
   "metadata": {},
   "outputs": [],
   "source": [
    "# RETURN to the directory ===========\n",
    "os.chdir(CDIR) \n",
    "#===================================="
   ]
  }
 ],
 "metadata": {
  "kernelspec": {
   "display_name": "base",
   "language": "python",
   "name": "python3"
  },
  "language_info": {
   "codemirror_mode": {
    "name": "ipython",
    "version": 3
   },
   "file_extension": ".py",
   "mimetype": "text/x-python",
   "name": "python",
   "nbconvert_exporter": "python",
   "pygments_lexer": "ipython3",
   "version": "3.9.12"
  },
  "orig_nbformat": 4
 },
 "nbformat": 4,
 "nbformat_minor": 2
}
